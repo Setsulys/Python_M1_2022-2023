{
 "cells": [
  {
   "cell_type": "code",
   "execution_count": 2,
   "id": "fa47445e",
   "metadata": {},
   "outputs": [],
   "source": [
    "from itertools import *"
   ]
  },
  {
   "cell_type": "markdown",
   "id": "7831057c",
   "metadata": {},
   "source": [
    "## Exercice 1"
   ]
  },
  {
   "cell_type": "code",
   "execution_count": 3,
   "id": "5cf2d292",
   "metadata": {},
   "outputs": [],
   "source": [
    "def queen_pbm(n):\n",
    "    nbr=0;\n",
    "    p = list(permutations(range(0,n)))   \n",
    "    for k in p:\n",
    "        p1={i-k[i] for i in k}\n",
    "        p2={i+k[i] for i in k}\n",
    "        if len(p2)==n==len(p1):\n",
    "            nbr+=1\n",
    "    return nbr\n",
    "            "
   ]
  },
  {
   "cell_type": "code",
   "execution_count": 4,
   "id": "9e064218",
   "metadata": {},
   "outputs": [
    {
     "data": {
      "text/plain": [
       "92"
      ]
     },
     "execution_count": 4,
     "metadata": {},
     "output_type": "execute_result"
    }
   ],
   "source": [
    "queen_pbm(8)"
   ]
  },
  {
   "cell_type": "markdown",
   "id": "de958d8a",
   "metadata": {},
   "source": [
    "## Exercice 2"
   ]
  },
  {
   "cell_type": "code",
   "execution_count": 323,
   "id": "91c9e1db",
   "metadata": {},
   "outputs": [],
   "source": [
    "def cryptarithme(string):\n",
    "    letters =set()\n",
    "    for i in string:\n",
    "        if(i.isalpha()):\n",
    "            letters.add(i)\n",
    "    print(letters)"
   ]
  },
  {
   "cell_type": "code",
   "execution_count": 324,
   "id": "fca51bc4",
   "metadata": {},
   "outputs": [
    {
     "name": "stdout",
     "output_type": "stream",
     "text": [
      "{'D', 'E', 'N', 'Y', 'R', 'O', 'S', 'M'}\n"
     ]
    }
   ],
   "source": [
    "cryptarithme(\"SEND + MORE == MONEY\")"
   ]
  },
  {
   "cell_type": "markdown",
   "id": "8b1612a1",
   "metadata": {},
   "source": [
    "## Exercice 3"
   ]
  },
  {
   "cell_type": "code",
   "execution_count": 6,
   "id": "1098b566",
   "metadata": {},
   "outputs": [],
   "source": [
    "def cornway(array,nbr):\n",
    "    cpt =1\n",
    "    lst=[]\n",
    "    if(nbr == 0 ):\n",
    "        return array\n",
    "    for i in range(len(array)):\n",
    "        if(i +1 < len(array)):\n",
    "            if(array[i]==array[i+1]):\n",
    "                cpt+=1\n",
    "            else:\n",
    "                lst.append(cpt)\n",
    "                lst.append(array[i])\n",
    "                cpt=1\n",
    "        else:\n",
    "            lst.append(cpt)\n",
    "            lst.append(array[i])\n",
    "    return cornway(lst,nbr-1)"
   ]
  },
  {
   "cell_type": "code",
   "execution_count": 7,
   "id": "90f096aa",
   "metadata": {},
   "outputs": [],
   "source": [
    "def all_cornway(start,nbr):\n",
    "    for i in range(nbr):\n",
    "        print(\"\".join([str(x) for x in cornway(start,i)]))"
   ]
  },
  {
   "cell_type": "code",
   "execution_count": 9,
   "id": "f46922fc",
   "metadata": {},
   "outputs": [
    {
     "name": "stdout",
     "output_type": "stream",
     "text": [
      "4\n",
      "14\n",
      "1114\n",
      "3114\n",
      "132114\n",
      "1113122114\n",
      "311311222114\n",
      "13211321322114\n",
      "1113122113121113222114\n",
      "31131122211311123113322114\n"
     ]
    }
   ],
   "source": [
    "all_cornway([4],10)"
   ]
  },
  {
   "cell_type": "code",
   "execution_count": null,
   "id": "a7fdc98d",
   "metadata": {},
   "outputs": [],
   "source": []
  },
  {
   "cell_type": "code",
   "execution_count": null,
   "id": "dddf1416",
   "metadata": {},
   "outputs": [],
   "source": []
  }
 ],
 "metadata": {
  "kernelspec": {
   "display_name": "Python 3",
   "language": "python",
   "name": "python3"
  },
  "language_info": {
   "codemirror_mode": {
    "name": "ipython",
    "version": 3
   },
   "file_extension": ".py",
   "mimetype": "text/x-python",
   "name": "python",
   "nbconvert_exporter": "python",
   "pygments_lexer": "ipython3",
   "version": "3.6.9"
  }
 },
 "nbformat": 4,
 "nbformat_minor": 5
}
