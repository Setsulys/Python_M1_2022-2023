{
 "cells": [
  {
   "cell_type": "markdown",
   "id": "3239d703",
   "metadata": {},
   "source": [
    "# Exercice 1"
   ]
  },
  {
   "cell_type": "code",
   "execution_count": 100,
   "id": "536f3763",
   "metadata": {},
   "outputs": [],
   "source": [
    "from urllib.request import urlopen\n",
    "from html.parser import HTMLParser\n",
    "from urllib.request import urlretrieve\n",
    "import os\n",
    "from datetime import datetime"
   ]
  },
  {
   "cell_type": "code",
   "execution_count": 114,
   "id": "14bd6be5",
   "metadata": {},
   "outputs": [],
   "source": [
    "class htmlparsing(HTMLParser):\n",
    "    def reset(self):                              \n",
    "        HTMLParser.reset(self)\n",
    "        self.urls = []\n",
    "        \n",
    "    def handle_starttag(self, tag, attrs):                     \n",
    "        src = [v for k, v in attrs if k=='src']\n",
    "        if src:\n",
    "            self.urls.extend(src)\n",
    "    \n",
    "\n",
    "def dlimgs (url):\n",
    "    s = urlopen(url).read().decode('utf8')\n",
    "    p = htmlparsing()\n",
    "    p.feed(s)\n",
    "    p.close()\n",
    "    for u in p.urls: \n",
    "        try :\n",
    "            print(datetime.now().strftime(\"%Y-%m-%d_%H-%M-%S_\"))\n",
    "            file_date= os.path.join(datetime.now().strftime(\"%Y-%m-%d_%H-%M-%S_\"),u)\n",
    "            filename = os.path.join(\"./imgs\", file_date)\n",
    "            print(urlretrieve(url+u,filename))\n",
    "        except:\n",
    "            pass\n"
   ]
  },
  {
   "cell_type": "code",
   "execution_count": 115,
   "id": "d4ba7a3f",
   "metadata": {
    "scrolled": true
   },
   "outputs": [
    {
     "name": "stdout",
     "output_type": "stream",
     "text": [
      "2022-10-19_11-25-02_\n",
      "2022-10-19_11-25-02_\n",
      "2022-10-19_11-25-02_\n",
      "2022-10-19_11-25-02_\n",
      "2022-10-19_11-25-02_\n",
      "2022-10-19_11-25-02_\n",
      "2022-10-19_11-25-03_\n",
      "2022-10-19_11-25-03_\n"
     ]
    }
   ],
   "source": [
    "dlimgs('http://www-igm.univ-mlv.fr/~jyt/')\n"
   ]
  },
  {
   "cell_type": "markdown",
   "id": "24f75a54",
   "metadata": {},
   "source": [
    "# Exerice2"
   ]
  },
  {
   "cell_type": "code",
   "execution_count": null,
   "id": "7fa9a4c5",
   "metadata": {},
   "outputs": [],
   "source": []
  },
  {
   "cell_type": "code",
   "execution_count": null,
   "id": "b8639bad",
   "metadata": {},
   "outputs": [],
   "source": []
  }
 ],
 "metadata": {
  "kernelspec": {
   "display_name": "Python 3",
   "language": "python",
   "name": "python3"
  },
  "language_info": {
   "codemirror_mode": {
    "name": "ipython",
    "version": 3
   },
   "file_extension": ".py",
   "mimetype": "text/x-python",
   "name": "python",
   "nbconvert_exporter": "python",
   "pygments_lexer": "ipython3",
   "version": "3.6.9"
  }
 },
 "nbformat": 4,
 "nbformat_minor": 5
}
