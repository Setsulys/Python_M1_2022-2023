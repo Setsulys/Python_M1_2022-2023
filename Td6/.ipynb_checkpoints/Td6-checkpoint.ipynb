{
 "cells": [
  {
   "cell_type": "code",
   "execution_count": null,
   "id": "8f135b27",
   "metadata": {},
   "outputs": [
    {
     "name": "stdout",
     "output_type": "stream",
     "text": [
      "Serveur actif sur le port : 8887\n"
     ]
    },
    {
     "name": "stderr",
     "output_type": "stream",
     "text": [
      "127.0.0.1 - - [09/Nov/2022 10:59:01] \"GET / HTTP/1.1\" 200 -\n",
      "127.0.0.1 - - [09/Nov/2022 10:59:01] code 404, message File not found\n",
      "127.0.0.1 - - [09/Nov/2022 10:59:01] \"GET /favicon.ico HTTP/1.1\" 404 -\n",
      "127.0.0.1 - - [09/Nov/2022 10:59:11] \"GET /Td6.ipynb HTTP/1.1\" 200 -\n"
     ]
    }
   ],
   "source": [
    "import http.server\n",
    "\n",
    "PORT = 8887\n",
    "server_address = (\"\", PORT)\n",
    "\n",
    "server = http.server.HTTPServer\n",
    "handler = http.server.CGIHTTPRequestHandler\n",
    "print(\"Serveur actif sur le port :\", PORT)\n",
    "\n",
    "httpd = server(server_address, handler)\n",
    "httpd.serve_forever()"
   ]
  },
  {
   "cell_type": "code",
   "execution_count": null,
   "id": "2d412d20",
   "metadata": {},
   "outputs": [],
   "source": [
    "import cgitb\n",
    "cgitb.enable(display=0, logdir=\"/path/to/logdir\")\n",
    "\n",
    "form = cgi.FieldStorage()\n",
    "if \"name\" not in form or \"addr\" not in form:\n",
    "    print(\"<H1>Error</H1>\")\n",
    "    print(\"Please fill in the name and addr fields.\")\n",
    "    return\n",
    "print(\"<p>name:\", form[\"name\"].value)\n",
    "print(\"<p>addr:\", form[\"addr\"].value)"
   ]
  },
  {
   "cell_type": "code",
   "execution_count": null,
   "id": "b8addc51",
   "metadata": {},
   "outputs": [],
   "source": []
  }
 ],
 "metadata": {
  "kernelspec": {
   "display_name": "Python 3",
   "language": "python",
   "name": "python3"
  },
  "language_info": {
   "codemirror_mode": {
    "name": "ipython",
    "version": 3
   },
   "file_extension": ".py",
   "mimetype": "text/x-python",
   "name": "python",
   "nbconvert_exporter": "python",
   "pygments_lexer": "ipython3",
   "version": "3.6.9"
  }
 },
 "nbformat": 4,
 "nbformat_minor": 5
}
