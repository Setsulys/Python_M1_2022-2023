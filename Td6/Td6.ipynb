{
 "cells": [
  {
   "cell_type": "code",
   "execution_count": null,
   "id": "f0c72877",
   "metadata": {},
   "outputs": [
    {
     "name": "stdout",
     "output_type": "stream",
     "text": [
      "Serveur actif sur le port : 8887\n"
     ]
    },
    {
     "name": "stderr",
     "output_type": "stream",
     "text": [
      "127.0.0.1 - - [09/Nov/2022 10:59:01] \"GET / HTTP/1.1\" 200 -\n",
      "127.0.0.1 - - [09/Nov/2022 10:59:01] code 404, message File not found\n",
      "127.0.0.1 - - [09/Nov/2022 10:59:01] \"GET /favicon.ico HTTP/1.1\" 404 -\n",
      "127.0.0.1 - - [09/Nov/2022 10:59:11] \"GET /Td6.ipynb HTTP/1.1\" 200 -\n",
      "127.0.0.1 - - [09/Nov/2022 11:13:46] \"GET / HTTP/1.1\" 200 -\n",
      "127.0.0.1 - - [09/Nov/2022 11:13:47] \"GET /registration.html HTTP/1.1\" 200 -\n",
      "127.0.0.1 - - [09/Nov/2022 11:14:09] \"GET /registration.html HTTP/1.1\" 200 -\n",
      "127.0.0.1 - - [09/Nov/2022 11:17:24] \"GET /registration.html HTTP/1.1\" 200 -\n",
      "127.0.0.1 - - [09/Nov/2022 11:17:51] \"GET /registration.html HTTP/1.1\" 200 -\n",
      "127.0.0.1 - - [09/Nov/2022 11:18:36] \"GET /registration.html HTTP/1.1\" 200 -\n",
      "127.0.0.1 - - [09/Nov/2022 11:19:23] \"GET /registration.html HTTP/1.1\" 200 -\n",
      "127.0.0.1 - - [09/Nov/2022 11:20:10] \"GET /registration.html HTTP/1.1\" 200 -\n",
      "127.0.0.1 - - [09/Nov/2022 11:20:50] \"GET /registration.html HTTP/1.1\" 200 -\n",
      "127.0.0.1 - - [09/Nov/2022 11:21:01] \"GET /registration.html HTTP/1.1\" 200 -\n",
      "127.0.0.1 - - [09/Nov/2022 11:22:18] \"GET /registration.html HTTP/1.1\" 200 -\n",
      "127.0.0.1 - - [09/Nov/2022 11:23:17] \"GET /registration.html HTTP/1.1\" 200 -\n",
      "127.0.0.1 - - [09/Nov/2022 11:23:48] \"GET /registration.html HTTP/1.1\" 200 -\n",
      "127.0.0.1 - - [09/Nov/2022 11:24:46] \"GET /registration.html HTTP/1.1\" 200 -\n",
      "127.0.0.1 - - [09/Nov/2022 11:25:18] \"GET /registration.html HTTP/1.1\" 200 -\n",
      "127.0.0.1 - - [09/Nov/2022 11:25:23] \"GET /registration.html?nom=aaaa&pr%C3%A9nom=&Email=&Soci%C3%A9t%C3%A9=&T%C3%A9l%C3%A9phone=&Arriv%C3%A9e=&D%C3%A9part= HTTP/1.1\" 200 -\n",
      "127.0.0.1 - - [09/Nov/2022 11:25:23] \"GET /registration.html?nom=&pr%C3%A9nom=&Email=&Soci%C3%A9t%C3%A9=&T%C3%A9l%C3%A9phone=&Arriv%C3%A9e=&D%C3%A9part= HTTP/1.1\" 200 -\n",
      "127.0.0.1 - - [09/Nov/2022 11:25:29] \"GET /registration.html?nom=&pr%C3%A9nom=&Email=afpoeapae&Soci%C3%A9t%C3%A9=aefpafp&T%C3%A9l%C3%A9phone=apefnapf%2C&Arriv%C3%A9e=&D%C3%A9part= HTTP/1.1\" 200 -\n",
      "127.0.0.1 - - [09/Nov/2022 11:27:18] \"GET /registration.html?nom=&pr%C3%A9nom=&Email=afpoeapae&Soci%C3%A9t%C3%A9=aefpafp&T%C3%A9l%C3%A9phone=apefnapf%2C&Arriv%C3%A9e=&D%C3%A9part= HTTP/1.1\" 200 -\n",
      "127.0.0.1 - - [09/Nov/2022 11:29:32] \"GET /registration.html?nom=&pr%C3%A9nom=&Email=afpoeapae&Soci%C3%A9t%C3%A9=aefpafp&T%C3%A9l%C3%A9phone=apefnapf%2C&Arriv%C3%A9e=&D%C3%A9part= HTTP/1.1\" 200 -\n",
      "127.0.0.1 - - [09/Nov/2022 11:30:51] \"GET /registration.html?nom=&pr%C3%A9nom=&Email=afpoeapae&Soci%C3%A9t%C3%A9=aefpafp&T%C3%A9l%C3%A9phone=apefnapf%2C&Arriv%C3%A9e=&D%C3%A9part= HTTP/1.1\" 200 -\n",
      "127.0.0.1 - - [09/Nov/2022 11:31:20] \"GET /registration.html?nom=&pr%C3%A9nom=&Email=afpoeapae&Soci%C3%A9t%C3%A9=aefpafp&T%C3%A9l%C3%A9phone=apefnapf%2C&Arriv%C3%A9e=&D%C3%A9part= HTTP/1.1\" 200 -\n",
      "127.0.0.1 - - [09/Nov/2022 11:31:34] \"GET /registration.html?nom=&pr%C3%A9nom=&Email=afpoeapae&Soci%C3%A9t%C3%A9=aefpafp&T%C3%A9l%C3%A9phone=apefnapf%2C&Arriv%C3%A9e=&D%C3%A9part= HTTP/1.1\" 200 -\n",
      "127.0.0.1 - - [09/Nov/2022 11:31:39] \"GET /registration.html?nom=&pr%C3%A9nom=&Email=afpoeapae&Soci%C3%A9t%C3%A9=aefpafp&T%C3%A9l%C3%A9phone=apefnapf%2C&Arriv%C3%A9e=&D%C3%A9part= HTTP/1.1\" 200 -\n",
      "127.0.0.1 - - [09/Nov/2022 11:31:42] \"GET /registration.html?nom=&pr%C3%A9nom=&Email=afpoeapae&Soci%C3%A9t%C3%A9=aefpafp&T%C3%A9l%C3%A9phone=apefnapf%2C&Arriv%C3%A9e=&D%C3%A9part= HTTP/1.1\" 200 -\n",
      "127.0.0.1 - - [09/Nov/2022 11:33:17] \"GET /registration.html?nom=&pr%C3%A9nom=&Email=afpoeapae&Soci%C3%A9t%C3%A9=aefpafp&T%C3%A9l%C3%A9phone=apefnapf%2C&Arriv%C3%A9e=&D%C3%A9part= HTTP/1.1\" 200 -\n",
      "127.0.0.1 - - [09/Nov/2022 11:33:36] \"GET /registration.html?nom=&pr%C3%A9nom=&Email=afpoeapae&Soci%C3%A9t%C3%A9=aefpafp&T%C3%A9l%C3%A9phone=apefnapf%2C&Arriv%C3%A9e=&D%C3%A9part= HTTP/1.1\" 200 -\n",
      "127.0.0.1 - - [09/Nov/2022 11:34:09] \"GET /registration.html?nom=&pr%C3%A9nom=&Email=afpoeapae&Soci%C3%A9t%C3%A9=aefpafp&T%C3%A9l%C3%A9phone=apefnapf%2C&Arriv%C3%A9e=&D%C3%A9part= HTTP/1.1\" 200 -\n",
      "127.0.0.1 - - [09/Nov/2022 11:48:32] \"GET /registration.html?nom=LY&pr%C3%A9nom=Steven&Email=steven.ly%40edu.univ-eiffel.fr&Soci%C3%A9t%C3%A9=uge&T%C3%A9l%C3%A9phone=06255632563256&Arriv%C3%A9e=2022-11-23T11%3A46&D%C3%A9part=2022-11-26T11%3A48 HTTP/1.1\" 200 -\n",
      "127.0.0.1 - - [09/Nov/2022 11:49:00] \"GET /registration.html?nom=LY&pr%C3%A9nom=Steven&Email=steven.ly%40edu.univ-eiffel.fr&Soci%C3%A9t%C3%A9=uge&T%C3%A9l%C3%A9phone=06255632563256&Arriv%C3%A9e=2022-11-23T11%3A46&D%C3%A9part=2022-11-26T11%3A48 HTTP/1.1\" 200 -\n",
      "127.0.0.1 - - [09/Nov/2022 11:49:22] \"GET /registration.html?nom=LY&pr%C3%A9nom=Steven&Email=steven.ly%40edu.univ-eiffel.fr&Soci%C3%A9t%C3%A9=uge&T%C3%A9l%C3%A9phone=06255632563256&Arriv%C3%A9e=2022-11-23T11%3A46&D%C3%A9part=2022-11-26T11%3A48 HTTP/1.1\" 200 -\n",
      "127.0.0.1 - - [09/Nov/2022 11:49:24] \"GET /registration.html?nom=LY&pr%C3%A9nom=Steven&Email=steven.ly%40edu.univ-eiffel.fr&Soci%C3%A9t%C3%A9=uge&T%C3%A9l%C3%A9phone=06255632563256&Arriv%C3%A9e=2022-11-23T11%3A46&D%C3%A9part=2022-11-26T11%3A48 HTTP/1.1\" 200 -\n",
      "127.0.0.1 - - [09/Nov/2022 11:49:25] \"GET /registration.html?nom=LY&pr%C3%A9nom=Steven&Email=steven.ly%40edu.univ-eiffel.fr&Soci%C3%A9t%C3%A9=uge&T%C3%A9l%C3%A9phone=06255632563256&Arriv%C3%A9e=2022-11-23T11%3A46&D%C3%A9part=2022-11-26T11%3A48 HTTP/1.1\" 200 -\n",
      "127.0.0.1 - - [09/Nov/2022 11:49:34] \"GET /registration.html?nom=LY&pr%C3%A9nom=Steven&Email=steven.ly%40edu.univ-eiffel.fr&Soci%C3%A9t%C3%A9=uge&T%C3%A9l%C3%A9phone=06255632563256&Arriv%C3%A9e=2022-11-23T11%3A46&D%C3%A9part=2022-11-26T11%3A48 HTTP/1.1\" 200 -\n",
      "127.0.0.1 - - [09/Nov/2022 11:49:40] \"GET /registration.html?nom=LY&pr%C3%A9nom=Steven&Email=steven.ly%40edu.univ-eiffel.fr&Soci%C3%A9t%C3%A9=uge&T%C3%A9l%C3%A9phone=06255632563256&Arriv%C3%A9e=2022-11-23T11%3A46&D%C3%A9part=2022-11-26T11%3A48 HTTP/1.1\" 200 -\n",
      "127.0.0.1 - - [09/Nov/2022 11:49:48] \"GET /registration.html?nom=LY&pr%C3%A9nom=Steven&Email=steven.ly%40edu.univ-eiffel.fr&Soci%C3%A9t%C3%A9=uge&T%C3%A9l%C3%A9phone=06255632563256&Arriv%C3%A9e=2022-11-23T11%3A46&D%C3%A9part=2022-11-26T11%3A48 HTTP/1.1\" 200 -\n",
      "127.0.0.1 - - [09/Nov/2022 11:49:56] \"GET /registration.html?nom=LY&pr%C3%A9nom=Steven&Email=steven.ly%40edu.univ-eiffel.fr&Soci%C3%A9t%C3%A9=uge&T%C3%A9l%C3%A9phone=06255632563256&Arriv%C3%A9e=2022-11-23T11%3A46&D%C3%A9part=2022-11-26T11%3A48 HTTP/1.1\" 200 -\n",
      "127.0.0.1 - - [09/Nov/2022 11:50:14] \"GET /registration.html?nom=LY&pr%C3%A9nom=Steven&Email=steven.ly%40edu.univ-eiffel.fr&Soci%C3%A9t%C3%A9=uge&T%C3%A9l%C3%A9phone=06255632563256&Arriv%C3%A9e=2022-11-23T11%3A46&D%C3%A9part=2022-11-26T11%3A48 HTTP/1.1\" 200 -\n",
      "127.0.0.1 - - [09/Nov/2022 11:50:50] \"GET /registration.html?nom=LY&pr%C3%A9nom=Steven&Email=steven.ly%40edu.univ-eiffel.fr&Soci%C3%A9t%C3%A9=uge&T%C3%A9l%C3%A9phone=06255632563256&Arriv%C3%A9e=2022-11-23T11%3A46&D%C3%A9part=2022-11-26T11%3A48 HTTP/1.1\" 200 -\n",
      "127.0.0.1 - - [09/Nov/2022 11:52:00] \"GET /registration.html?nom=LY&pr%C3%A9nom=Steven&Email=steven.ly%40edu.univ-eiffel.fr&Soci%C3%A9t%C3%A9=uge&T%C3%A9l%C3%A9phone=06255632563256&Arriv%C3%A9e=2022-11-23T11%3A46&D%C3%A9part=2022-11-26T11%3A48 HTTP/1.1\" 200 -\n",
      "127.0.0.1 - - [09/Nov/2022 11:53:02] \"GET /registration.html?nom=LY&pr%C3%A9nom=Steven&Email=steven.ly%40edu.univ-eiffel.fr&Soci%C3%A9t%C3%A9=uge&T%C3%A9l%C3%A9phone=06255632563256&Arriv%C3%A9e=2022-11-23T11%3A46&D%C3%A9part=2022-11-26T11%3A48 HTTP/1.1\" 200 -\n",
      "127.0.0.1 - - [09/Nov/2022 11:53:18] \"GET /registration.html?nom=LY&pr%C3%A9nom=Steven&Email=steven.ly%40edu.univ-eiffel.fr&Soci%C3%A9t%C3%A9=uge&T%C3%A9l%C3%A9phone=06255632563256&Arriv%C3%A9e=2022-11-23T11%3A46&D%C3%A9part=2022-11-26T11%3A48 HTTP/1.1\" 200 -\n",
      "127.0.0.1 - - [09/Nov/2022 11:53:27] \"GET /registration.html?nom=LY&pr%C3%A9nom=Steven&Email=steven.ly%40edu.univ-eiffel.fr&Soci%C3%A9t%C3%A9=uge&T%C3%A9l%C3%A9phone=06255632563256&Arriv%C3%A9e=2022-11-23T11%3A46&D%C3%A9part=2022-11-26T11%3A48 HTTP/1.1\" 200 -\n",
      "127.0.0.1 - - [09/Nov/2022 11:53:48] \"GET /registration.html?nom=LY&pr%C3%A9nom=Steven&Email=steven.ly%40edu.univ-eiffel.fr&Soci%C3%A9t%C3%A9=uge&T%C3%A9l%C3%A9phone=06255632563256&Arriv%C3%A9e=2022-11-23T11%3A46&D%C3%A9part=2022-11-26T11%3A48 HTTP/1.1\" 200 -\n",
      "127.0.0.1 - - [09/Nov/2022 11:53:57] \"GET /registration.html?nom=LY&pr%C3%A9nom=Steven&Email=steven.ly%40edu.univ-eiffel.fr&Soci%C3%A9t%C3%A9=uge&T%C3%A9l%C3%A9phone=06255632563256&Arriv%C3%A9e=2022-11-23T11%3A46&D%C3%A9part=2022-11-26T11%3A48 HTTP/1.1\" 200 -\n"
     ]
    },
    {
     "name": "stderr",
     "output_type": "stream",
     "text": [
      "127.0.0.1 - - [09/Nov/2022 11:54:05] \"GET /registration.html?nom=LY&pr%C3%A9nom=Steven&Email=steven.ly%40edu.univ-eiffel.fr&Soci%C3%A9t%C3%A9=uge&T%C3%A9l%C3%A9phone=06255632563256&Arriv%C3%A9e=2022-11-23T11%3A46&D%C3%A9part=2022-11-26T11%3A48 HTTP/1.1\" 200 -\n",
      "127.0.0.1 - - [09/Nov/2022 11:54:16] \"GET /registration.html?nom=LY&pr%C3%A9nom=Steven&Email=steven.ly%40edu.univ-eiffel.fr&Soci%C3%A9t%C3%A9=uge&T%C3%A9l%C3%A9phone=06255632563256&Arriv%C3%A9e=2022-11-23T11%3A46&D%C3%A9part=2022-11-26T11%3A48 HTTP/1.1\" 200 -\n",
      "127.0.0.1 - - [09/Nov/2022 11:54:30] \"GET /registration.html?nom=LY&pr%C3%A9nom=Steven&Email=steven.ly%40edu.univ-eiffel.fr&Soci%C3%A9t%C3%A9=uge&T%C3%A9l%C3%A9phone=06255632563256&Arriv%C3%A9e=2022-11-23T11%3A46&D%C3%A9part=2022-11-26T11%3A48 HTTP/1.1\" 200 -\n",
      "127.0.0.1 - - [09/Nov/2022 11:54:45] \"GET /registration.html?nom=LY&pr%C3%A9nom=Steven&Email=steven.ly%40edu.univ-eiffel.fr&Soci%C3%A9t%C3%A9=uge&T%C3%A9l%C3%A9phone=06255632563256&Arriv%C3%A9e=2022-11-23T11%3A46&D%C3%A9part=2022-11-26T11%3A48 HTTP/1.1\" 200 -\n",
      "127.0.0.1 - - [09/Nov/2022 11:54:53] \"GET /registration.html?nom=LY&pr%C3%A9nom=Steven&Email=steven.ly%40edu.univ-eiffel.fr&Soci%C3%A9t%C3%A9=uge&T%C3%A9l%C3%A9phone=06255632563256&Arriv%C3%A9e=2022-11-23T11%3A46&D%C3%A9part=2022-11-26T11%3A48 HTTP/1.1\" 200 -\n",
      "127.0.0.1 - - [09/Nov/2022 11:56:58] \"GET /registration.html?nom=LY&pr%C3%A9nom=Steven&Email=steven.ly%40edu.univ-eiffel.fr&Soci%C3%A9t%C3%A9=uge&T%C3%A9l%C3%A9phone=06255632563256&Arriv%C3%A9e=2022-11-23T11%3A46&D%C3%A9part=2022-11-26T11%3A48 HTTP/1.1\" 200 -\n",
      "127.0.0.1 - - [09/Nov/2022 11:57:15] \"GET /registration.html?nom=LY&pr%C3%A9nom=Steven&Email=steven.ly%40edu.univ-eiffel.fr&Soci%C3%A9t%C3%A9=uge&T%C3%A9l%C3%A9phone=06255632563256&Arriv%C3%A9e=2022-11-23T11%3A46&D%C3%A9part=2022-11-26T11%3A48 HTTP/1.1\" 200 -\n",
      "127.0.0.1 - - [09/Nov/2022 11:57:21] \"GET /registration.html?nom=LY&pr%C3%A9nom=Steven&Email=steven.ly%40edu.univ-eiffel.fr&Soci%C3%A9t%C3%A9=uge&T%C3%A9l%C3%A9phone=06255632563256&Arriv%C3%A9e=2022-11-23T11%3A46&D%C3%A9part=2022-11-26T11%3A48 HTTP/1.1\" 200 -\n",
      "127.0.0.1 - - [09/Nov/2022 11:57:28] \"GET /registration.html?nom=LY&pr%C3%A9nom=Steven&Email=steven.ly%40edu.univ-eiffel.fr&Soci%C3%A9t%C3%A9=uge&T%C3%A9l%C3%A9phone=06255632563256&Arriv%C3%A9e=2022-11-23T11%3A46&D%C3%A9part=2022-11-26T11%3A48 HTTP/1.1\" 200 -\n",
      "127.0.0.1 - - [09/Nov/2022 11:57:37] \"GET /registration.html?nom=LY&pr%C3%A9nom=Steven&Email=steven.ly%40edu.univ-eiffel.fr&Soci%C3%A9t%C3%A9=uge&T%C3%A9l%C3%A9phone=06255632563256&Arriv%C3%A9e=2022-11-23T11%3A46&D%C3%A9part=2022-11-26T11%3A48 HTTP/1.1\" 200 -\n",
      "127.0.0.1 - - [09/Nov/2022 11:57:44] \"GET /registration.html?nom=LY&pr%C3%A9nom=Steven&Email=steven.ly%40edu.univ-eiffel.fr&Soci%C3%A9t%C3%A9=uge&T%C3%A9l%C3%A9phone=06255632563256&Arriv%C3%A9e=2022-11-23T11%3A46&D%C3%A9part=2022-11-26T11%3A48 HTTP/1.1\" 200 -\n",
      "127.0.0.1 - - [09/Nov/2022 11:58:00] \"GET /registration.html?nom=LY&pr%C3%A9nom=Steven&Email=steven.ly%40edu.univ-eiffel.fr&Soci%C3%A9t%C3%A9=uge&T%C3%A9l%C3%A9phone=06255632563256&Arriv%C3%A9e=2022-11-23T11%3A46&D%C3%A9part=2022-11-26T11%3A48 HTTP/1.1\" 200 -\n",
      "127.0.0.1 - - [09/Nov/2022 11:58:07] \"GET /registration.html?nom=LY&pr%C3%A9nom=Steven&Email=steven.ly%40edu.univ-eiffel.fr&Soci%C3%A9t%C3%A9=uge&T%C3%A9l%C3%A9phone=06255632563256&Arriv%C3%A9e=2022-11-23T11%3A46&D%C3%A9part=2022-11-26T11%3A48 HTTP/1.1\" 200 -\n",
      "127.0.0.1 - - [09/Nov/2022 11:58:12] \"GET /registration.html?nom=LY&pr%C3%A9nom=Steven&Email=steven.ly%40edu.univ-eiffel.fr&Soci%C3%A9t%C3%A9=uge&T%C3%A9l%C3%A9phone=06255632563256&Arriv%C3%A9e=2022-11-23T11%3A46&D%C3%A9part=2022-11-26T11%3A48 HTTP/1.1\" 200 -\n",
      "127.0.0.1 - - [09/Nov/2022 11:58:18] \"GET /registration.html?nom=LY&pr%C3%A9nom=Steven&Email=steven.ly%40edu.univ-eiffel.fr&Soci%C3%A9t%C3%A9=uge&T%C3%A9l%C3%A9phone=06255632563256&Arriv%C3%A9e=2022-11-23T11%3A46&D%C3%A9part=2022-11-26T11%3A48 HTTP/1.1\" 200 -\n",
      "127.0.0.1 - - [09/Nov/2022 11:58:34] \"GET /registration.html?nom=LY&pr%C3%A9nom=Steven&Email=steven.ly%40edu.univ-eiffel.fr&Soci%C3%A9t%C3%A9=uge&T%C3%A9l%C3%A9phone=06255632563256&Arriv%C3%A9e=2022-11-23T11%3A46&D%C3%A9part=2022-11-26T11%3A48 HTTP/1.1\" 200 -\n",
      "127.0.0.1 - - [09/Nov/2022 11:58:43] \"GET /registration.html?nom=LY&pr%C3%A9nom=Steven&Email=steven.ly%40edu.univ-eiffel.fr&Soci%C3%A9t%C3%A9=uge&T%C3%A9l%C3%A9phone=06255632563256&Arriv%C3%A9e=2022-11-23T11%3A46&D%C3%A9part=2022-11-26T11%3A48 HTTP/1.1\" 200 -\n",
      "127.0.0.1 - - [09/Nov/2022 11:58:53] \"GET /registration.html?nom=LY&pr%C3%A9nom=Steven&Email=steven.ly%40edu.univ-eiffel.fr&Soci%C3%A9t%C3%A9=uge&T%C3%A9l%C3%A9phone=06255632563256&Arriv%C3%A9e=2022-11-23T11%3A46&D%C3%A9part=2022-11-26T11%3A48 HTTP/1.1\" 200 -\n",
      "127.0.0.1 - - [09/Nov/2022 11:59:09] \"GET /registration.html?nom=LY&pr%C3%A9nom=Steven&Email=steven.ly%40edu.univ-eiffel.fr&Soci%C3%A9t%C3%A9=uge&T%C3%A9l%C3%A9phone=06255632563256&Arriv%C3%A9e=2022-11-23T11%3A46&D%C3%A9part=2022-11-26T11%3A48 HTTP/1.1\" 200 -\n",
      "127.0.0.1 - - [09/Nov/2022 12:06:27] code 404, message No such CGI script ('/cgi-bin/register.cgi')\n",
      "127.0.0.1 - - [09/Nov/2022 12:06:27] \"POST /cgi-bin/register.cgi HTTP/1.1\" 404 -\n",
      "127.0.0.1 - - [09/Nov/2022 12:07:37] \"POST /cgi-bin/register.cgi HTTP/1.1\" 200 -\n",
      "----------------------------------------\n",
      "Exception happened during processing of request from ('127.0.0.1', 54103)\n",
      "Traceback (most recent call last):\n",
      "  File \"/usr/lib/python3.6/http/server.py\", line 1126, in run_cgi\n",
      "    os.execve(scriptfile, args, env)\n",
      "OSError: [Errno 8] Exec format error: '/mnt/c/Users/steve/Desktop/using/cours/M1/Python/Td6/cgi-bin/register.cgi'\n",
      "----------------------------------------\n",
      "127.0.0.1 - - [09/Nov/2022 12:07:37] \"POST /cgi-bin/register.cgi HTTP/1.1\" 200 -\n",
      "127.0.0.1 - - [09/Nov/2022 12:07:37] CGI script exit status 0x7f00\n",
      "127.0.0.1 - - [09/Nov/2022 12:07:40] \"POST /cgi-bin/register.cgi HTTP/1.1\" 200 -\n",
      "----------------------------------------\n",
      "Exception happened during processing of request from ('127.0.0.1', 54104)\n",
      "Traceback (most recent call last):\n",
      "  File \"/usr/lib/python3.6/http/server.py\", line 1126, in run_cgi\n",
      "    os.execve(scriptfile, args, env)\n",
      "OSError: [Errno 8] Exec format error: '/mnt/c/Users/steve/Desktop/using/cours/M1/Python/Td6/cgi-bin/register.cgi'\n",
      "----------------------------------------\n",
      "127.0.0.1 - - [09/Nov/2022 12:07:40] \"POST /cgi-bin/register.cgi HTTP/1.1\" 200 -\n",
      "127.0.0.1 - - [09/Nov/2022 12:07:40] CGI script exit status 0x7f00\n"
     ]
    }
   ],
   "source": [
    "import http.server\n",
    "\n",
    "PORT = 8887\n",
    "server_address = (\"\", PORT)\n",
    "\n",
    "server = http.server.HTTPServer\n",
    "handler = http.server.CGIHTTPRequestHandler\n",
    "print(\"Serveur actif sur le port :\", PORT)\n",
    "\n",
    "httpd = server(server_address, handler)\n",
    "httpd.serve_forever()"
   ]
  },
  {
   "cell_type": "code",
   "execution_count": null,
   "id": "048e366c",
   "metadata": {},
   "outputs": [],
   "source": []
  },
  {
   "cell_type": "code",
   "execution_count": null,
   "id": "ec1bb576",
   "metadata": {},
   "outputs": [],
   "source": []
  }
 ],
 "metadata": {
  "kernelspec": {
   "display_name": "Python 3",
   "language": "python",
   "name": "python3"
  },
  "language_info": {
   "codemirror_mode": {
    "name": "ipython",
    "version": 3
   },
   "file_extension": ".py",
   "mimetype": "text/x-python",
   "name": "python",
   "nbconvert_exporter": "python",
   "pygments_lexer": "ipython3",
   "version": "3.6.9"
  }
 },
 "nbformat": 4,
 "nbformat_minor": 5
}
